{
  "cells": [
    {
      "cell_type": "markdown",
      "metadata": {
        "id": "view-in-github",
        "colab_type": "text"
      },
      "source": [
        "<a href=\"https://colab.research.google.com/github/mckennpc/Human_MDH2/blob/main/mdanalysis_colab_Step2.ipynb\" target=\"_parent\"><img src=\"https://colab.research.google.com/assets/colab-badge.svg\" alt=\"Open In Colab\"/></a>"
      ]
    },
    {
      "cell_type": "markdown",
      "metadata": {
        "id": "pj2BWZxUDbEE"
      },
      "source": [
        "# **Introduction**\n",
        "\n",
        "Welcome to the world of Molecular Dynamics! This lesson is to teach you the basic protocol of analyzing a molecular dynamics (MD) simulation, including a bit of Python coding. If you don't know how to code, don't worry! These lessons assume no prior knowledge of code or Python.\n",
        "\n",
        "If you have not completed Step 1 and would like to do so, click this link: https://colab.research.google.com/drive/1vKxP4MJhdIODzScluSeU73NHOWwJIPn8?usp=sharing\n",
        "\n",
        "## Analyzing molecular dynamics\n",
        "MD simulates the motion of molecules and can describe how the structure changes over time. The analysis of molecular dynamics extracts properties from the \"movie\" of the molecule such as how mobile areas of the molecule were and how the pKa values of certain functional groups can vary as the molecule moves. This information can help describe the mechanism of action as conformational changes in enzymes are linked to catalytic activity and pKa is related to nucleophilicty.\n",
        "\n",
        "## What will I get from this Colab?\n",
        "The first steps of the colab show whether the molecule reached equilibrium during the simulation, which indicates how reliable or confidently you can interpret the rest of the values. The second section of the Colab describes which areas of the molecule are most dynamic. Finally, the code will calculate the pKa values for each frame of the simulation to show pKa values over time. These values and outputs can be compared to simulations of mutants or the protein with ligands to determine how these changes to the simulation environment alter the dynamics of the molecule.\n",
        "\n",
        "[Guide video for using this colab](https://www.loom.com/share/cb783e87ba294bee916d0fd1e0847fee?sid=ac7a0852-00c7-4cc9-b2b1-cd142ee9b7fc)\n",
        "\n",
        "\n",
        "\n",
        "---\n",
        "\n"
      ],
      "id": "pj2BWZxUDbEE"
    },
    {
      "cell_type": "markdown",
      "source": [
        "\n",
        "####**Please make a copy of this colab for your personal use!!**\n",
        "\n",
        "A few things to start:\n",
        "\n",
        "1.   These lessons only work in Google Chrome\n",
        "2.   If you want to save your progress, go to File> Save a Copy in Drive; then locate a spot in your Drive folder\n",
        "3.   Clicking the \"play\" button to the top left of a code block runs the code. Sometimes you can see the code and interact with it. However, if the code is hidden  it is to run adminstrative tasks in the background and you do not need to worry unless you are interested.\n",
        "4. Sometimes the code may be hidden from view. To view it, click the '>' on the left of the title, until it changes to 'v'. This will reveal the code in that line.\n",
        "\n",
        "Here are the files you will need for this code to run:\n",
        "*   **.dcd** is a file format that store simulation trajectories. Simulation trajectories are a dynamic view of various properties in your protein, including atom coordinates, box size, velocities, and forces. Trajectory files looks at these variables as they change throughout time. You should have this file from your MD run in step 1.\n",
        "*  A .pdb file containing a set of atomic coordinates of your molecule. **.pdb** stands for a Protein Data Bank file. It is a file containing the three-dimensional structural data of your protein directly from the Protein Data Bank. If you run into errors with your PDB file, ask your instructor. You should have this file from your MD run in step 1.\n",
        "\n",
        "If you want to remove waters from your files (you may want this if you did not use the Step 1 colab), you will need a .prmtop file:\n",
        "*  **.prmtop** is the topology of your protein. Toplogy means how the atoms connect together and the location of each atom. You should have this file from Step 1.\n",
        "\n",
        "If you would like a tutorial on Python basics, please reference [this colab](https://colab.research.google.com/drive/1UVupXh23ArJp2F9vqTmkVh0JnjEaemi1?usp=sharing ). It is not necessary to do this, however if you are interested in learning more about coding it is a great resource to use!\n",
        "\n",
        "This should take approximately 30 minutes to run.\n",
        "\n",
        "---\n",
        "\n",
        "**Acknowledgments**\n",
        "- Colab developed by **Angela Kayll, Angelina Sardelli, and Christopher Berndsen** at James Madison University (ver 1 2024) with input and feedback from students in CHEM260 and members of the [MCC community](https://www.mdhcures.org/).\n"
      ],
      "metadata": {
        "id": "u77m5v6ie-0Z"
      },
      "id": "u77m5v6ie-0Z"
    },
    {
      "cell_type": "code",
      "source": [
        "#@title **1a. Install Conda Colab**\n",
        "#@markdown Press PLAY. It will restart the kernel (session), don't worry. But do not start\n",
        "#@markdown any other cells until this one finishes!\n",
        "!pip install -q condacolab\n",
        "import condacolab\n",
        "condacolab.install()"
      ],
      "metadata": {
        "id": "mBFASF7ICxWi",
        "cellView": "form"
      },
      "execution_count": null,
      "outputs": [],
      "id": "mBFASF7ICxWi"
    },
    {
      "cell_type": "code",
      "execution_count": null,
      "id": "30437f46",
      "metadata": {
        "id": "30437f46",
        "cellView": "form"
      },
      "outputs": [],
      "source": [
        "#@title **1b. Install and load dependencies**\n",
        "#@markdown Press PLAY **after** the above cell has completed and the session restarted.\n",
        "#@markdown This will take a few minutes.\n",
        "!pip install -q mdtraj\n",
        "!pip install -q matplotlib\n",
        "!pip install --upgrade MDAnalysis --quiet\n",
        "!pip install -q pandas\n",
        "!pip install -q seaborn\n",
        "!pip install -q propkatraj\n",
        "\n",
        "import pandas as pd\n",
        "import mdtraj as md\n",
        "import matplotlib.pyplot as pp\n",
        "import MDAnalysis as mda\n",
        "from MDAnalysis.analysis import rms, align, diffusionmap\n",
        "import seaborn as sns\n",
        "from propkatraj import PropkaTraj"
      ]
    },
    {
      "cell_type": "markdown",
      "source": [
        "Once both of the above have run, *then* you can begin analyzing the trajectory.\n",
        "\n",
        "1.   Click on the file folder on the left side\n",
        "2.   **Right-click**, bring up the actions menu, and create a folder. Name this folder \"data\".\n",
        "3. Upload the .dcd file and the .pdb file. Put these files in the \"data\" folder. The .dcd files are often large so be patient.\n",
        "4.   **Right-click**, bring up the actions menu, and create a folder. Name this folder \"outputs\". This is where we will put any output files or figures. **Remember to download all of these files when done.**\n",
        "5.  I'll provide instructions on the basic commands and analyses, if you add more remember to save what you are doing.\n",
        "\n",
        "\n"
      ],
      "metadata": {
        "id": "xK45Gt3OOePt"
      },
      "id": "xK45Gt3OOePt"
    },
    {
      "cell_type": "markdown",
      "source": [
        "##If you do not need to remove waters, then proceed with the steps below!\n",
        "\n",
        "# Removing waters\n",
        "Unless you are specifically interested in the waters (and they often are interesting to look at), they are generally removed from the files. This helps reduce the file size and keeping track of all the components of the simulation. The Step 1 colab typically removes the waters automatically, however, **if you are bring a file from a different source OR chose not to remove the waters and need to, there is code at the very bottom which allows you to do this.**\n",
        "\n",
        "**If you do not need to remove waters, then proceed with the steps below**\n",
        "\n",
        "\n",
        "\n",
        "---\n",
        "\n",
        "## 1c Load the data\n",
        "Change the filenames to match the names of the uploaded files. Remember to wait until the uploads have completed before running this box."
      ],
      "metadata": {
        "id": "zKwyZTnOuMB6"
      },
      "id": "zKwyZTnOuMB6"
    },
    {
      "cell_type": "code",
      "execution_count": null,
      "id": "51566c16",
      "metadata": {
        "id": "51566c16"
      },
      "outputs": [],
      "source": [
        "\n",
        "# these are the names of your files, replace the \"xxx\" with your file name\n",
        "dcd = 'data/xxx.dcd'\n",
        "pdb = \"data/xxx.pdb\"\n",
        "u = mda.Universe(pdb, dcd)"
      ]
    },
    {
      "cell_type": "markdown",
      "source": [
        "# Analysis of the trajectory\n",
        "We will use the MDAnalysis package to do the analysis and Matplotlib to plot our results. In the first step we will load the no solvent trajectory file that we made previously and use the pdb file from above to define the system.\n",
        "\n",
        "---\n",
        "## 2. RMSD analysis\n",
        "\n",
        "For the **first box**, it will load your .dcd and .pdb files. Change the file names in the area labeled \"xxx\" to the names of your files.\n",
        "\n",
        "For the **second box**, it will calculate your root mean square deviation (RMSD), which will indicate how much your trajectory changed from the start to the end of your simulation. You do not need to edit anything in this box unless your instructor tells you to.\n",
        "\n",
        "For the **third box**, it will make a pretty visualization of your RMSD results and save it as a CSV file. It will also show you the first five rows of data to allow you to assess the quality of the output. You do not need to edit anything in this box unless your instructor tells you to.\n",
        "\n",
        "For the **fourth box**, it will plot your data as a png file. The RMSD plot gives a sense of whether the protein has reached a fixed state over the simulation, but it is not particularly good at comparing the structures overall. You do not need to edit anything in this box unless your instructor tells you to."
      ],
      "metadata": {
        "id": "AgRQtDRbanJf"
      },
      "id": "AgRQtDRbanJf"
    },
    {
      "cell_type": "code",
      "execution_count": null,
      "id": "cd10f1be",
      "metadata": {
        "id": "cd10f1be"
      },
      "outputs": [],
      "source": [
        "# calculate rmsd\n",
        "# RMSD = root mean square deviation, and indicates how much the trajectory changed from start to end\n",
        "u.trajectory[0] # set to first frame\n",
        "rmsd_analysis = rms.RMSD(u, select='backbone', groupselections=['name CA', 'protein']) # select the areas to analyze, in this case the protein backbone atoms\n",
        "rmsd_analysis.run(); # run the analysis"
      ]
    },
    {
      "cell_type": "code",
      "source": [
        "# make a pretty data frame using pandas\n",
        "rmsd_df = pd.DataFrame(rmsd_analysis.results.rmsd[:, 1:],\n",
        "                       columns=['time', 'Backbone', 'C-alphas', 'Protein'])\n",
        "\n",
        "# save this information as a CSV file\n",
        "rmsd_df.to_csv('outputs/RMSD_df.csv')\n",
        "\n",
        "# show the first five rows to make sure it looks right\n",
        "rmsd_df.head()"
      ],
      "metadata": {
        "id": "BNPu-13PZdYb"
      },
      "id": "BNPu-13PZdYb",
      "execution_count": null,
      "outputs": []
    },
    {
      "cell_type": "code",
      "execution_count": null,
      "id": "3cfc38c6",
      "metadata": {
        "id": "3cfc38c6"
      },
      "outputs": [],
      "source": [
        "# show the data in frame (you can change the axes values as needed)\n",
        "fig, ax = pp.subplots()\n",
        "ax.plot(rmsd_df['time']/1000, rmsd_df['Backbone'])\n",
        "ax.set(xlabel = 'time', ylabel = 'RMSD')\n",
        "\n",
        "# save the plot\n",
        "pp.savefig('outputs/rmsd_plot.png')"
      ]
    },
    {
      "cell_type": "markdown",
      "source": [
        "The RMSD plot above gives a sense of whether the protein has reached a fixed state over the simulation but is not particularly good at comparing the structures overall. The code below will do a pairwise comparison of all the frames and show the data as a heatmap to suggest if there are conformational changes that appear consistently in your protein. A heatmap is a 2D data visualization technique that shows a visual summary of data across two axis. Consistent conformational changes could suggest a specific function within your protein, as structure = function!\n",
        "\n",
        "\n",
        "\n",
        "---\n",
        "## 3. Pairwise RMSD plot\n"
      ],
      "metadata": {
        "id": "YPtw1RZg-FHx"
      },
      "id": "YPtw1RZg-FHx"
    },
    {
      "cell_type": "code",
      "source": [
        "# align the trajectory to itself pairwise\n",
        "aligner = align.AlignTraj(u, u, select='name CA',\n",
        "                          in_memory=True).run()\n",
        "matrix = diffusionmap.DistanceMatrix(u, select='name CA').run()\n",
        "\n",
        "# plot the pairwise alignment as a distribution\n",
        "pp.imshow(matrix.results.dist_matrix, cmap='viridis')\n",
        "pp.xlabel('Frame')\n",
        "pp.ylabel('Frame')\n",
        "pp.colorbar(label=r'RMSD ($\\AA$)');\n",
        "pp.savefig('outputs/rmsd_compare_plot.png')"
      ],
      "metadata": {
        "id": "wQwFnT82963-"
      },
      "id": "wQwFnT82963-",
      "execution_count": null,
      "outputs": []
    },
    {
      "cell_type": "markdown",
      "source": [
        "\n",
        "\n",
        "---\n",
        "## 4. Root Mean Square Flucuation plot\n",
        "\n",
        "The code below will calculate the root mean square fluctuation, effectively how much motion each amino acid has during the simulation. It is similar to RMSD, except instead of looking at positional differences in the entire structure over time, it will specify the movement/fluctuation of each residue during a simulation.\n",
        "\n",
        "\n",
        "\n",
        "---\n",
        "\n"
      ],
      "metadata": {
        "id": "0_t4Qv5yEVaF"
      },
      "id": "0_t4Qv5yEVaF"
    },
    {
      "cell_type": "code",
      "execution_count": null,
      "id": "97a8a670",
      "metadata": {
        "id": "97a8a670"
      },
      "outputs": [],
      "source": [
        "# calculate the root mean square flucuation, effectively how much motion each amino acid has during the simulation\n",
        "calphas = u.select_atoms(\"name CA\") #Commonly the RMSD is computed using the aC of the protein to evaluate protein flucturation respecting the initial coordinates\n",
        "rmsfer = rms.RMSF(calphas,verbose=False).run()\n",
        "RMSF_table=pd.DataFrame(rmsfer.rmsf,index=calphas.resnums,columns=['RMSF']) #Saving the RMSF value for every aC residue\n",
        "# save the data\n",
        "RMSF_table.to_csv(\"outputs/RMSF_df.csv\")\n",
        "\n",
        "# make the plot\n",
        "pp.rcParams['axes.linewidth'] = 1.5\n",
        "fig, ax = pp.subplots(figsize=(8,6))\n",
        "\n",
        "pp.plot(calphas.resnums, rmsfer.rmsf,linewidth=1.5,color='k')\n",
        "\n",
        "pp.xlabel ('Residue Cα',fontsize=16,fontweight='bold')\n",
        "pp.ylabel ('RMSF (Å)',fontsize=16,fontweight='bold')\n",
        "\n",
        "ax.spines['top'].set_visible(False)\n",
        "ax.spines['right'].set_visible(False)\n",
        "\n",
        "pp.tick_params ('both',width=2,labelsize=12)\n",
        "pp.grid (axis='y',alpha=0.5)\n",
        "pp.tight_layout()\n",
        "pp.savefig('outputs/rmsf_plot.png')\n",
        "pp.show()\n",
        "# save the plot\n"
      ]
    },
    {
      "cell_type": "markdown",
      "source": [
        "## 5. Predict pKa values\n",
        "This takes a bit of time (20+ minutes). Produces a spreadsheet of pKa at each step in the trajectory for each amino acid side chain that typically ionizes under biological conditions. The amino acids are indicated by residue number in the protein, so it may not exactly match the sequence numbering if the simulation uses a distinct numbering scheme.\n",
        "The describe cell gives a summary of the trajectory, while the to csv cell saves the entire set of data for plotting.\n",
        "\n",
        "**Make sure to only press PLAY once the previous run is complete!!**"
      ],
      "metadata": {
        "id": "66OkIJNBYeTc"
      },
      "id": "66OkIJNBYeTc"
    },
    {
      "cell_type": "code",
      "source": [
        "pkatraj = PropkaTraj(u, select='protein', skip_failure=False)\n",
        "pkatraj.run()"
      ],
      "metadata": {
        "id": "nUykCI5Upc_1"
      },
      "id": "nUykCI5Upc_1",
      "execution_count": null,
      "outputs": []
    },
    {
      "cell_type": "code",
      "source": [
        "pkatraj.results.pkas.describe()"
      ],
      "metadata": {
        "id": "ovDrmhgdprKD"
      },
      "id": "ovDrmhgdprKD",
      "execution_count": null,
      "outputs": []
    },
    {
      "cell_type": "code",
      "source": [
        "pkatraj.results.pkas.to_csv(\"outputs/pkas_over_traj.csv\")"
      ],
      "metadata": {
        "id": "gsRNoz47q6ii"
      },
      "id": "gsRNoz47q6ii",
      "execution_count": null,
      "outputs": []
    },
    {
      "cell_type": "markdown",
      "source": [
        "**For this next section, you will need to change the \"xxx\" at the end of the line of code in the brackets to the number of the specific amino acid you would like to look at.** For example, if you want to look at the trajectory of amino acid 176, put that into the [ ]. If you have an error message show up, make sure that the amino acid number is present in your \"pkas_over_traj.csv\" file (you should see a column with that number). This will allow you to see differences in the amino acid that you have decided to change for your variant protein!"
      ],
      "metadata": {
        "id": "eZTXFH3mARHA"
      },
      "id": "eZTXFH3mARHA"
    },
    {
      "cell_type": "code",
      "source": [
        "# to see one specific amino acid over the trajectory use the code below\n",
        "# change the number in the [] to be the amino acid number in the structure, remember the numbering may be different so check the numbering in the pdb file\n",
        "pp.plot(pkatraj.results.pkas.index,pkatraj.results.pkas[xxx])"
      ],
      "metadata": {
        "id": "tNe2dz31CAPP"
      },
      "id": "tNe2dz31CAPP",
      "execution_count": null,
      "outputs": []
    },
    {
      "cell_type": "markdown",
      "source": [],
      "metadata": {
        "id": "cfjjAY2sIk0J"
      },
      "id": "cfjjAY2sIk0J"
    },
    {
      "cell_type": "code",
      "source": [
        "# to see multiple columns as a boxplot\n",
        "#replace xxx and yyy with the specific amino acid numbers. You can add more names by adding commas.\n",
        "df = pkatraj.results.pkas[[xxx, yyy]]\n",
        "# select a range of columns by column number, change the 0 and 78 to the range of column numbers remember to remove the '#'\n",
        "#df = pkatraj.results.pkas.iloc[:,0:78]\n",
        "\n",
        "# results will be in the form of a boxplot\n",
        "df.boxplot()"
      ],
      "metadata": {
        "id": "hSssfTbJCORW"
      },
      "id": "hSssfTbJCORW",
      "execution_count": null,
      "outputs": []
    },
    {
      "cell_type": "markdown",
      "source": [
        "# Congrats, you have finished Step 2 of the MD Colab! :-)\n",
        "\n",
        "## **Don't forget to download the files in your outputs folder!!!**\n"
      ],
      "metadata": {
        "id": "6NPHXIxa_tFh"
      },
      "id": "6NPHXIxa_tFh"
    },
    {
      "cell_type": "markdown",
      "source": [
        "# Removing solvent from the trajectory\n",
        "\n",
        "## Run this first code if you need to remove water from your files! If you already ran the above code, then don't run this unless told to.\n",
        "\n",
        "Trajectory is a dynamic view of various properties in your protein, including atom coordinates, box size, velocities, and forces. Trajectory files looks at these variables as they change throughout time. We really only care about the protein in these simulations so we need to remove the waters and ions from the trajectory. This will greatly reduce the file size and the complexity.\n",
        "\n",
        "First we will load the trajectory (.dcd) and the parameters for where the atoms are and the bonds (.prmtop). We will then remove the solvent and save the trajectory without solvent. We will also save a .pdb file of the first frame to help resolve case issues later on with amino acid numbering or where the system started. It is possible to extract any of the structures along the trajectory if needed.\n",
        "\n",
        "---\n",
        "\n",
        "All you need to edit is the first box of code, where you will need to change the file names. Otherwise, no edits are necessary and you can press PLAY."
      ],
      "metadata": {
        "id": "ke6p6IKx5jWq"
      },
      "id": "ke6p6IKx5jWq"
    },
    {
      "cell_type": "code",
      "execution_count": null,
      "id": "1cb8e75b",
      "metadata": {
        "id": "1cb8e75b"
      },
      "outputs": [],
      "source": [
        "# load the trajectories (you will need to change the file names)\n",
        "t = md.load('data/1aki_prod1_nw.dcd', top = 'data/SYS_nw.prmtop')"
      ]
    },
    {
      "cell_type": "code",
      "execution_count": null,
      "id": "5fa4ebd0",
      "metadata": {
        "id": "5fa4ebd0"
      },
      "outputs": [],
      "source": [
        "# remove the waters and ions to make the analysis simpler\n",
        "t2 = t.remove_solvent()"
      ]
    },
    {
      "cell_type": "code",
      "execution_count": null,
      "id": "59de0aba",
      "metadata": {
        "id": "59de0aba"
      },
      "outputs": [],
      "source": [
        "# check the size of the trajectory before and after solvent, atom number in t2 < t if remove solvent worked\n",
        "print(t)\n",
        "print(t2)"
      ]
    },
    {
      "cell_type": "code",
      "execution_count": null,
      "id": "6861d38d",
      "metadata": {
        "id": "6861d38d"
      },
      "outputs": [],
      "source": [
        "# save the no solvent trajectory and the first pdb file, we may save other structures in the trajectory later\n",
        "t2.save_dcd(\"outputs/traj_no_solvent.dcd\")\n",
        "# python starts with 0 as the first number\n",
        "t2[0].save_pdb(\"outputs/pdb_first.pdb\")"
      ]
    },
    {
      "cell_type": "code",
      "source": [
        "# If you need a different frame based on later analysis:\n",
        "# 1) change the zero to the frame number\n",
        "# 2) change the xxx in the file name to the frame number\n",
        "# 3) remove the '#' in front of the command below and run the cell\n",
        "# t2[XXX].save_pdb(\"outputs/pdb_xxx.pdb\")"
      ],
      "metadata": {
        "id": "iSGNiUNm6Yoh"
      },
      "id": "iSGNiUNm6Yoh",
      "execution_count": null,
      "outputs": []
    },
    {
      "cell_type": "markdown",
      "source": [
        "\n",
        "At this point, you have three different trajectory files that you need to compare. You could copy the loading and processing cells above to bring in the other files OR process each individually and make a new colab for comparing the 3 trajectories. For simplicity, I suggest processing the trajectories individually, however if you do decide to process them all here, then remember that you cannot use t or t2 as variable names.\n"
      ],
      "metadata": {
        "id": "et5VOV-XVhmu"
      },
      "id": "et5VOV-XVhmu"
    }
  ],
  "metadata": {
    "kernelspec": {
      "display_name": "Python 3 (ipykernel)",
      "language": "python",
      "name": "python3"
    },
    "language_info": {
      "codemirror_mode": {
        "name": "ipython",
        "version": 3
      },
      "file_extension": ".py",
      "mimetype": "text/x-python",
      "name": "python",
      "nbconvert_exporter": "python",
      "pygments_lexer": "ipython3",
      "version": "3.10.9"
    },
    "colab": {
      "provenance": [],
      "collapsed_sections": [
        "ke6p6IKx5jWq"
      ],
      "include_colab_link": true
    }
  },
  "nbformat": 4,
  "nbformat_minor": 5
}